{
 "cells": [
  {
   "cell_type": "markdown",
   "id": "d174210c-30e5-4a65-9f82-a3ad1301263e",
   "metadata": {
    "tags": []
   },
   "source": [
    "# IPykernel-duckdb demonstration\n",
    "This is a quick notebook to demonstrate how to use the ipykernel-duckdb kernel in a notebook.\n",
    "Note that most of the power in the kernel comes from the autocompletion, so \n",
    "it's best to try it out yourself!\n",
    "\n",
    "First, we create a duckdb connection:"
   ]
  },
  {
   "cell_type": "code",
   "execution_count": null,
   "id": "d0519a1b-3c2a-4315-add7-82a78cf416e7",
   "metadata": {},
   "outputs": [],
   "source": [
    "import duckdb\n",
    "# TODO: make this an in-memory db for the purpose of the demo\n",
    "%cd ..\n",
    "db = duckdb.connect(\"foo2.duckdb\", read_only=True)"
   ]
  },
  {
   "cell_type": "markdown",
   "id": "1ff032df-ce0f-4433-bd94-c0bdf807e94b",
   "metadata": {},
   "source": [
    "Now we can query the data as we normally would using the duckdb API, and we get autocompletion for the SQL string:"
   ]
  },
  {
   "cell_type": "code",
   "execution_count": null,
   "id": "923fe42d-778e-48e3-90fe-2f8946aed08f",
   "metadata": {},
   "outputs": [],
   "source": [
    "df = db.query(\"select y, x from anscombe limit 5\").df()\n",
    "df"
   ]
  },
  {
   "cell_type": "markdown",
   "id": "5fb35a08-6e79-43d4-b2fc-9f3f75325ccc",
   "metadata": {},
   "source": [
    "Or we can get a quick look using either a multiline string literal (\"\"\" or ''') or a single-line one. Multiline string literals with backslash continuations will not work.\n",
    "Note that the result will not be stored in a new variable, but it will be available in IPython history as a Pandas DataFrame. So be mindful of how much data you return!"
   ]
  },
  {
   "cell_type": "code",
   "execution_count": null,
   "id": "404cd646-cb15-4783-8b78-d0fd9073d72c",
   "metadata": {},
   "outputs": [],
   "source": [
    "\"\"\"\n",
    "select y, x from anscombe limit 5\n",
    "\"\"\""
   ]
  },
  {
   "cell_type": "code",
   "execution_count": null,
   "id": "77ac5813-3456-449e-9410-678ce1381070",
   "metadata": {},
   "outputs": [],
   "source": [
    "'select y, x from anscombe limit 5'"
   ]
  },
  {
   "cell_type": "markdown",
   "id": "4729ef0a-8abd-416a-9cdb-1e38d35ab351",
   "metadata": {},
   "source": [
    "Finally, we can use the %sql magic (not supported yet)"
   ]
  },
  {
   "cell_type": "code",
   "execution_count": null,
   "id": "e109d611-82d9-4a89-86e4-852fa9fea9fa",
   "metadata": {},
   "outputs": [],
   "source": [
    "%sql\n",
    "select * from anscombe\n",
    "limit 10"
   ]
  },
  {
   "cell_type": "code",
   "execution_count": null,
   "id": "a06a6de0-09a7-4f56-b74c-4586fff205cd",
   "metadata": {},
   "outputs": [],
   "source": []
  }
 ],
 "metadata": {
  "interpreter": {
   "hash": "9572df039ab054d8548bac43a6ec368864837fa4e85f4d914b1fd8f0fd249ec6"
  },
  "kernelspec": {
   "display_name": "Python 3 (ipykernel-duckdb)",
   "language": "python",
   "name": "python3"
  },
  "language_info": {
   "codemirror_mode": {
    "name": "ipython",
    "version": 3
   },
   "file_extension": ".py",
   "mimetype": "text/x-python",
   "name": "python",
   "nbconvert_exporter": "python",
   "pygments_lexer": "ipython3",
   "version": "3.8.12"
  }
 },
 "nbformat": 4,
 "nbformat_minor": 5
}
