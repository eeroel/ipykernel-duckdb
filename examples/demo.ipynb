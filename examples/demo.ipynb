{
 "cells": [
  {
   "cell_type": "markdown",
   "id": "d174210c-30e5-4a65-9f82-a3ad1301263e",
   "metadata": {
    "tags": []
   },
   "source": [
    "# IPykernel-duckdb demonstration\n",
    "This is a quick notebook to demonstrate how to use the ipykernel-duckdb kernel in a notebook.\n",
    "Note that most of the power in the kernel comes from the autocompletion, so \n",
    "it's best to try it out yourself!\n",
    "\n",
    "First, we create a duckdb connection:"
   ]
  },
  {
   "cell_type": "code",
   "execution_count": null,
   "id": "d0519a1b-3c2a-4315-add7-82a78cf416e7",
   "metadata": {},
   "outputs": [],
   "source": [
    "import duckdb\n",
    "# TODO: make this an in-memory db for the purpose of the demo\n",
    "%cd ..\n",
    "db = duckdb.connect(\"foo2.duckdb\", read_only=True)"
   ]
  },
  {
   "cell_type": "markdown",
   "id": "1ff032df-ce0f-4433-bd94-c0bdf807e94b",
   "metadata": {},
   "source": [
    "Now we can query the data as we normally would using the duckdb API, and we get autocompletion for the SQL string:"
   ]
  },
  {
   "cell_type": "code",
   "execution_count": null,
   "id": "923fe42d-778e-48e3-90fe-2f8946aed08f",
   "metadata": {},
   "outputs": [],
   "source": [
    "df = db.query(\"select y, x from anscombe limit 5\").df()\n",
    "df"
   ]
  },
  {
   "cell_type": "markdown",
   "id": "4729ef0a-8abd-416a-9cdb-1e38d35ab351",
   "metadata": {},
   "source": [
    "For quick queries we can use the `%%sql` cell magic"
   ]
  },
  {
   "cell_type": "code",
   "execution_count": null,
   "id": "51bc2e73-8b7a-4ebb-ae0e-e42910296d7c",
   "metadata": {},
   "outputs": [],
   "source": [
    "%%sql\n",
    "select * from anscombe\n",
    "limit 10"
   ]
  },
  {
   "cell_type": "markdown",
   "id": "407912ca-5627-4be3-98ae-2141bfc28a53",
   "metadata": {},
   "source": [
    "Or we can use the line magic `%sql` to store the query result in a Pandas DataFrame (but note that this will not work if we switch back to a regular IPython kernel):"
   ]
  },
  {
   "cell_type": "code",
   "execution_count": null,
   "id": "a06a6de0-09a7-4f56-b74c-4586fff205cd",
   "metadata": {},
   "outputs": [],
   "source": [
    "foo = %sql select * from anscombe limit 10"
   ]
  }
 ],
 "metadata": {
  "interpreter": {
   "hash": "9572df039ab054d8548bac43a6ec368864837fa4e85f4d914b1fd8f0fd249ec6"
  },
  "kernelspec": {
   "display_name": "Python 3 (ipykernel)",
   "language": "python",
   "name": "python3"
  },
  "language_info": {
   "codemirror_mode": {
    "name": "ipython",
    "version": 3
   },
   "file_extension": ".py",
   "mimetype": "text/x-python",
   "name": "python",
   "nbconvert_exporter": "python",
   "pygments_lexer": "ipython3",
   "version": "3.8.12"
  }
 },
 "nbformat": 4,
 "nbformat_minor": 5
}
